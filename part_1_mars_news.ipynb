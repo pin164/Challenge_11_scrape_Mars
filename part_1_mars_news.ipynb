{
 "cells": [
  {
   "attachments": {},
   "cell_type": "markdown",
   "metadata": {},
   "source": [
    "# Module 11 Challenge\n",
    "## Deliverable 1: Scrape Titles and Preview Text from Mars News"
   ]
  },
  {
   "cell_type": "markdown",
   "metadata": {},
   "source": [
    "note to grader --I changed the title :  The challenge is for module 11 not 12"
   ]
  },
  {
   "cell_type": "code",
   "execution_count": 1,
   "metadata": {},
   "outputs": [],
   "source": [
    "# Import Splinter and BeautifulSoup\n",
    "from splinter import Browser\n",
    "from bs4 import BeautifulSoup\n",
    "from pprint import pprint"
   ]
  },
  {
   "cell_type": "code",
   "execution_count": 2,
   "metadata": {
    "scrolled": true
   },
   "outputs": [],
   "source": [
    "browser = Browser('chrome')"
   ]
  },
  {
   "attachments": {},
   "cell_type": "markdown",
   "metadata": {},
   "source": [
    "### Step 1: Visit the Website\n",
    "\n",
    "1. Use automated browsing to visit the [Mars news site](https://static.bc-edx.com/data/web/mars_news/index.html). Inspect the page to identify which elements to scrape.\n",
    "\n",
    "      > **Hint** To identify which elements to scrape, you might want to inspect the page by using Chrome DevTools."
   ]
  },
  {
   "cell_type": "code",
   "execution_count": 3,
   "metadata": {},
   "outputs": [
    {
     "data": {
      "text/plain": [
       "True"
      ]
     },
     "execution_count": 3,
     "metadata": {},
     "output_type": "execute_result"
    }
   ],
   "source": [
    "# Visit the Mars news site\n",
    "url = 'https://static.bc-edx.com/data/web/mars_news/index.html'\n",
    "browser.visit(url)\n",
    "# Optional delay for loading the page\n",
    "browser.is_element_present_by_css('div.list_text', wait_time=1)"
   ]
  },
  {
   "attachments": {},
   "cell_type": "markdown",
   "metadata": {},
   "source": [
    "### Step 2: Scrape the Website\n",
    "\n",
    "Create a Beautiful Soup object and use it to extract text elements from the website."
   ]
  },
  {
   "cell_type": "code",
   "execution_count": 4,
   "metadata": {},
   "outputs": [],
   "source": [
    "# Retrieve the HTML from the current page\n",
    "\n",
    "html = browser.html"
   ]
  },
  {
   "cell_type": "code",
   "execution_count": 5,
   "metadata": {},
   "outputs": [],
   "source": [
    "# Create a Beautiful Soup object\n",
    "\n",
    "soup = BeautifulSoup(html, 'html.parser')"
   ]
  },
  {
   "cell_type": "markdown",
   "metadata": {},
   "source": [
    "Extract the titles and preview text of the news articles that you scraped. Store the scraping results in Python data structures as follows:"
   ]
  },
  {
   "cell_type": "markdown",
   "metadata": {},
   "source": [
    "Extract the titles of the news articles that you scraped. "
   ]
  },
  {
   "cell_type": "code",
   "execution_count": 6,
   "metadata": {
    "scrolled": true
   },
   "outputs": [
    {
     "name": "stdout",
     "output_type": "stream",
     "text": [
      "[<div class=\"content_title\">NASA's MAVEN Observes Martian Light Show Caused by Major Solar Storm</div>,\n",
      " <div class=\"content_title\">NASA Prepares to Say 'Farewell' to InSight Spacecraft</div>,\n",
      " <div class=\"content_title\">NASA and ESA Agree on Next Steps to Return Mars Samples to Earth</div>,\n",
      " <div class=\"content_title\">NASA's InSight Lander Detects Stunning Meteoroid Impact on Mars</div>,\n",
      " <div class=\"content_title\">NASA To Host Briefing on InSight, Mars Reconnaissance Orbiter Findings</div>,\n",
      " <div class=\"content_title\">Why NASA Is Trying To Crash Land on Mars</div>,\n",
      " <div class=\"content_title\">Curiosity Mars Rover Reaches Long-Awaited Salty Region</div>,\n",
      " <div class=\"content_title\">Mars Mission Shields Up for Tests</div>,\n",
      " <div class=\"content_title\">NASA's InSight Waits Out Dust Storm</div>,\n",
      " <div class=\"content_title\">NASA's InSight 'Hears' Its First Meteoroid Impacts on Mars</div>,\n",
      " <div class=\"content_title\">NASA's Perseverance Rover Investigates Geologically Rich Mars Terrain</div>,\n",
      " <div class=\"content_title\">NASA to Host Briefing on Perseverance Mars Rover Mission Operations</div>,\n",
      " <div class=\"content_title\">NASA's Perseverance Makes New Discoveries in Mars' Jezero Crater</div>,\n",
      " <div class=\"content_title\">10 Years Since Landing, NASA's Curiosity Mars Rover Still Has Drive</div>,\n",
      " <div class=\"content_title\">SAM's Top 5 Discoveries Aboard NASA's Curiosity Rover at Mars</div>]\n"
     ]
    }
   ],
   "source": [
    "article_title = soup.find_all('div', class_='content_title')\n",
    "pprint(article_title)"
   ]
  },
  {
   "cell_type": "code",
   "execution_count": 7,
   "metadata": {},
   "outputs": [
    {
     "name": "stdout",
     "output_type": "stream",
     "text": [
      "[<div class=\"article_teaser_body\">For the first time in its eight years orbiting Mars, NASA’s MAVEN mission witnessed two different types of ultraviolet aurorae simultaneously, the result of solar storms that began on Aug. 27.</div>,\n",
      " <div class=\"article_teaser_body\">A closer look at what goes into wrapping up the mission as the spacecraft’s power supply continues to dwindle.</div>,\n",
      " <div class=\"article_teaser_body\">The agency’s Perseverance rover will establish the first sample depot on Mars.</div>,\n",
      " <div class=\"article_teaser_body\">The agency’s lander felt the ground shake during the impact while cameras aboard the Mars Reconnaissance Orbiter spotted the yawning new crater from space.</div>,\n",
      " <div class=\"article_teaser_body\">Scientists from two Mars missions will discuss how they combined images and data for a major finding on the Red Planet.</div>,\n",
      " <div class=\"article_teaser_body\">Like a car’s crumple zone, the experimental SHIELD lander is designed to absorb a hard impact.</div>,\n",
      " <div class=\"article_teaser_body\">After years of climbing, the Mars rover has arrived at a special region believed to have formed as Mars’ climate was drying.</div>,\n",
      " <div class=\"article_teaser_body\">Protecting Mars Sample Return spacecraft from micrometeorites requires high-caliber work.</div>,\n",
      " <div class=\"article_teaser_body\">InSight’s team is taking steps to help the solar-powered lander continue operating for as long as possible.</div>,\n",
      " <div class=\"article_teaser_body\">The Mars lander’s seismometer has picked up vibrations from four separate impacts in the past two years.</div>,\n",
      " <div class=\"article_teaser_body\">The latest findings provide greater detail on a region of the Red Planet that has a watery past and is yielding promising samples for the NASA-ESA Mars Sample Return campaign.</div>,\n",
      " <div class=\"article_teaser_body\">Members of the mission will discuss the rover’s activities as it gathers samples in an ancient river delta.</div>,\n",
      " <div class=\"article_teaser_body\">The rover found that Jezero Crater’s floor is made up of volcanic rocks that have interacted with water.</div>,\n",
      " <div class=\"article_teaser_body\">Despite signs of wear, the intrepid spacecraft is about to start an exciting new chapter of its mission as it climbs a Martian mountain.</div>,\n",
      " <div class=\"article_teaser_body\">“Selfie” of the Curiosity rover with inset showing the SAM instrument prior to installation on the rover.</div>]\n"
     ]
    }
   ],
   "source": [
    "article_preview = soup.find_all('div', class_='article_teaser_body')\n",
    "pprint(article_preview)"
   ]
  },
  {
   "cell_type": "markdown",
   "metadata": {},
   "source": [
    "Extract the preview text of the news articles that you scraped. Store the scraping results in Python data structures as follows:"
   ]
  },
  {
   "cell_type": "markdown",
   "metadata": {},
   "source": [
    "### Step 3: Store the Results\n",
    "\n",
    "Extract the titles and preview text of the news articles that you scraped. Store the scraping results in Python data structures as follows:\n",
    "\n",
    "* Store each title-and-preview pair in a Python dictionary. And, give each dictionary two keys: `title` and `preview`. An example is the following:\n",
    "\n",
    "  ```python\n",
    "  {'title': \"NASA's MAVEN Observes Martian Light Show Caused by Major Solar Storm\", \n",
    "   'preview': \"For the first time in its eight years orbiting Mars, NASA’s MAVEN mission witnessed two different types of ultraviolet aurorae simultaneously, the result of solar storms that began on Aug. 27.\"\n",
    "  }\n",
    "  ```\n",
    "\n",
    "* Store all the dictionaries in a Python list.\n",
    "\n",
    "* Print the list in your notebook. notebook."
   ]
  },
  {
   "cell_type": "code",
   "execution_count": 8,
   "metadata": {},
   "outputs": [],
   "source": [
    "# Extract all the text elements\n"
   ]
  },
  {
   "cell_type": "code",
   "execution_count": 9,
   "metadata": {},
   "outputs": [],
   "source": [
    "# Create an empty list to store the dictionaries"
   ]
  },
  {
   "cell_type": "code",
   "execution_count": 10,
   "metadata": {},
   "outputs": [],
   "source": [
    "articles = []"
   ]
  },
  {
   "cell_type": "code",
   "execution_count": 11,
   "metadata": {
    "scrolled": true
   },
   "outputs": [
    {
     "name": "stdout",
     "output_type": "stream",
     "text": [
      "{'preview': 'For the first time in its eight years orbiting Mars, NASA’s MAVEN '\n",
      "            'mission witnessed two different types of ultraviolet aurorae '\n",
      "            'simultaneously, the result of solar storms that began on Aug. 27.',\n",
      " 'title': \"NASA's MAVEN Observes Martian Light Show Caused by Major Solar \"\n",
      "          'Storm'}\n",
      "{'preview': 'A closer look at what goes into wrapping up the mission as the '\n",
      "            'spacecraft’s power supply continues to dwindle.',\n",
      " 'title': \"NASA Prepares to Say 'Farewell' to InSight Spacecraft\"}\n",
      "{'preview': 'The agency’s Perseverance rover will establish the first sample '\n",
      "            'depot on Mars.',\n",
      " 'title': 'NASA and ESA Agree on Next Steps to Return Mars Samples to Earth'}\n",
      "{'preview': 'The agency’s lander felt the ground shake during the impact while '\n",
      "            'cameras aboard the Mars Reconnaissance Orbiter spotted the '\n",
      "            'yawning new crater from space.',\n",
      " 'title': \"NASA's InSight Lander Detects Stunning Meteoroid Impact on Mars\"}\n",
      "{'preview': 'Scientists from two Mars missions will discuss how they combined '\n",
      "            'images and data for a major finding on the Red Planet.',\n",
      " 'title': 'NASA To Host Briefing on InSight, Mars Reconnaissance Orbiter '\n",
      "          'Findings'}\n",
      "{'preview': 'Like a car’s crumple zone, the experimental SHIELD lander is '\n",
      "            'designed to absorb a hard impact.',\n",
      " 'title': 'Why NASA Is Trying To Crash Land on Mars'}\n",
      "{'preview': 'After years of climbing, the Mars rover has arrived at a special '\n",
      "            'region believed to have formed as Mars’ climate was drying.',\n",
      " 'title': 'Curiosity Mars Rover Reaches Long-Awaited Salty Region'}\n",
      "{'preview': 'Protecting Mars Sample Return spacecraft from micrometeorites '\n",
      "            'requires high-caliber work.',\n",
      " 'title': 'Mars Mission Shields Up for Tests'}\n",
      "{'preview': 'InSight’s team is taking steps to help the solar-powered lander '\n",
      "            'continue operating for as long as possible.',\n",
      " 'title': \"NASA's InSight Waits Out Dust Storm\"}\n",
      "{'preview': 'The Mars lander’s seismometer has picked up vibrations from four '\n",
      "            'separate impacts in the past two years.',\n",
      " 'title': \"NASA's InSight 'Hears' Its First Meteoroid Impacts on Mars\"}\n",
      "{'preview': 'The latest findings provide greater detail on a region of the Red '\n",
      "            'Planet that has a watery past and is yielding promising samples '\n",
      "            'for the NASA-ESA Mars Sample Return campaign.',\n",
      " 'title': \"NASA's Perseverance Rover Investigates Geologically Rich Mars \"\n",
      "          'Terrain'}\n",
      "{'preview': 'Members of the mission will discuss the rover’s activities as it '\n",
      "            'gathers samples in an ancient river delta.',\n",
      " 'title': 'NASA to Host Briefing on Perseverance Mars Rover Mission Operations'}\n",
      "{'preview': 'The rover found that Jezero Crater’s floor is made up of volcanic '\n",
      "            'rocks that have interacted with water.',\n",
      " 'title': \"NASA's Perseverance Makes New Discoveries in Mars' Jezero Crater\"}\n",
      "{'preview': 'Despite signs of wear, the intrepid spacecraft is about to start '\n",
      "            'an exciting new chapter of its mission as it climbs a Martian '\n",
      "            'mountain.',\n",
      " 'title': \"10 Years Since Landing, NASA's Curiosity Mars Rover Still Has Drive\"}\n",
      "{'preview': '“Selfie” of the Curiosity rover with inset showing the SAM '\n",
      "            'instrument prior to installation on the rover.',\n",
      " 'title': \"SAM's Top 5 Discoveries Aboard NASA's Curiosity Rover at Mars\"}\n"
     ]
    }
   ],
   "source": [
    "# article_title and article_preview contain multiple titles and previews\n",
    "\n",
    "# Loop through all the articles\n",
    "for t, p in zip(article_title, article_preview):\n",
    "    # Extract the text from each\n",
    "    title_text = t.get_text()\n",
    "    preview_text = p.get_text()\n",
    "    \n",
    "    # Create a dictionary for each article\n",
    "    article_dict = {\n",
    "        'title': title_text,\n",
    "        'preview': preview_text\n",
    "    }\n",
    "    \n",
    "    # Add the dictionary to the list\n",
    "    articles.append(article_dict)\n",
    "\n",
    "#  list of dictionaries, where each dictionary contains the title and preview of an article\n",
    "for article in articles:\n",
    "    pprint(article)"
   ]
  },
  {
   "cell_type": "code",
   "execution_count": 12,
   "metadata": {
    "scrolled": true
   },
   "outputs": [
    {
     "name": "stdout",
     "output_type": "stream",
     "text": [
      "title\n",
      "NASA's MAVEN Observes Martian Light Show Caused by Major Solar Storm\n",
      "-----\n",
      "preview\n",
      "For the first time in its eight years orbiting Mars, NASA’s MAVEN mission witnessed two different types of ultraviolet aurorae simultaneously, the result of solar storms that began on Aug. 27.\n",
      "-----\n",
      "title\n",
      "NASA Prepares to Say 'Farewell' to InSight Spacecraft\n",
      "-----\n",
      "preview\n",
      "A closer look at what goes into wrapping up the mission as the spacecraft’s power supply continues to dwindle.\n",
      "-----\n",
      "title\n",
      "NASA and ESA Agree on Next Steps to Return Mars Samples to Earth\n",
      "-----\n",
      "preview\n",
      "The agency’s Perseverance rover will establish the first sample depot on Mars.\n",
      "-----\n",
      "title\n",
      "NASA's InSight Lander Detects Stunning Meteoroid Impact on Mars\n",
      "-----\n",
      "preview\n",
      "The agency’s lander felt the ground shake during the impact while cameras aboard the Mars Reconnaissance Orbiter spotted the yawning new crater from space.\n",
      "-----\n",
      "title\n",
      "NASA To Host Briefing on InSight, Mars Reconnaissance Orbiter Findings\n",
      "-----\n",
      "preview\n",
      "Scientists from two Mars missions will discuss how they combined images and data for a major finding on the Red Planet.\n",
      "-----\n",
      "title\n",
      "Why NASA Is Trying To Crash Land on Mars\n",
      "-----\n",
      "preview\n",
      "Like a car’s crumple zone, the experimental SHIELD lander is designed to absorb a hard impact.\n",
      "-----\n",
      "title\n",
      "Curiosity Mars Rover Reaches Long-Awaited Salty Region\n",
      "-----\n",
      "preview\n",
      "After years of climbing, the Mars rover has arrived at a special region believed to have formed as Mars’ climate was drying.\n",
      "-----\n",
      "title\n",
      "Mars Mission Shields Up for Tests\n",
      "-----\n",
      "preview\n",
      "Protecting Mars Sample Return spacecraft from micrometeorites requires high-caliber work.\n",
      "-----\n",
      "title\n",
      "NASA's InSight Waits Out Dust Storm\n",
      "-----\n",
      "preview\n",
      "InSight’s team is taking steps to help the solar-powered lander continue operating for as long as possible.\n",
      "-----\n",
      "title\n",
      "NASA's InSight 'Hears' Its First Meteoroid Impacts on Mars\n",
      "-----\n",
      "preview\n",
      "The Mars lander’s seismometer has picked up vibrations from four separate impacts in the past two years.\n",
      "-----\n",
      "title\n",
      "NASA's Perseverance Rover Investigates Geologically Rich Mars Terrain\n",
      "-----\n",
      "preview\n",
      "The latest findings provide greater detail on a region of the Red Planet that has a watery past and is yielding promising samples for the NASA-ESA Mars Sample Return campaign.\n",
      "-----\n",
      "title\n",
      "NASA to Host Briefing on Perseverance Mars Rover Mission Operations\n",
      "-----\n",
      "preview\n",
      "Members of the mission will discuss the rover’s activities as it gathers samples in an ancient river delta.\n",
      "-----\n",
      "title\n",
      "NASA's Perseverance Makes New Discoveries in Mars' Jezero Crater\n",
      "-----\n",
      "preview\n",
      "The rover found that Jezero Crater’s floor is made up of volcanic rocks that have interacted with water.\n",
      "-----\n",
      "title\n",
      "10 Years Since Landing, NASA's Curiosity Mars Rover Still Has Drive\n",
      "-----\n",
      "preview\n",
      "Despite signs of wear, the intrepid spacecraft is about to start an exciting new chapter of its mission as it climbs a Martian mountain.\n",
      "-----\n",
      "title\n",
      "SAM's Top 5 Discoveries Aboard NASA's Curiosity Rover at Mars\n",
      "-----\n",
      "preview\n",
      "“Selfie” of the Curiosity rover with inset showing the SAM instrument prior to installation on the rover.\n",
      "-----\n"
     ]
    }
   ],
   "source": [
    "# in addition one can print it more clearly\n",
    "# Loop through the list of article dictionaries\n",
    "for article_dict in articles:\n",
    "    # Loop through each key-value pair in the dictionary\n",
    "    for key, value in article_dict.items():\n",
    "        print(key)\n",
    "        print(value)\n",
    "        print(\"-----\") "
   ]
  },
  {
   "cell_type": "code",
   "execution_count": 16,
   "metadata": {},
   "outputs": [],
   "source": [
    "browser.quit()"
   ]
  },
  {
   "cell_type": "code",
   "execution_count": null,
   "metadata": {},
   "outputs": [],
   "source": []
  }
 ],
 "metadata": {
  "kernelspec": {
   "display_name": "Python 3 (ipykernel)",
   "language": "python",
   "name": "python3"
  },
  "language_info": {
   "codemirror_mode": {
    "name": "ipython",
    "version": 3
   },
   "file_extension": ".py",
   "mimetype": "text/x-python",
   "name": "python",
   "nbconvert_exporter": "python",
   "pygments_lexer": "ipython3",
   "version": "3.10.14"
  },
  "vscode": {
   "interpreter": {
    "hash": "31f2aee4e71d21fbe5cf8b01ff0e069b9275f58929596ceb00d14d90e3e16cd6"
   }
  }
 },
 "nbformat": 4,
 "nbformat_minor": 4
}
