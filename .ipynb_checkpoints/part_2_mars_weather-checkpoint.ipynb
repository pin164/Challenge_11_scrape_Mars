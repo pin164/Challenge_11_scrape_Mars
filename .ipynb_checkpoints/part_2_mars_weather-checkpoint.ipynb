{
 "cells": [
  {
   "attachments": {},
   "cell_type": "markdown",
   "metadata": {},
   "source": [
    "# Module 11 Challenge\n",
    "## Deliverable 2: Scrape and Analyze Mars Weather Data"
   ]
  },
  {
   "cell_type": "markdown",
   "metadata": {},
   "source": [
    "#### note to grader --I changed the title : The challenge is for module 11 not 12"
   ]
  },
  {
   "cell_type": "code",
   "execution_count": 1,
   "metadata": {},
   "outputs": [],
   "source": [
    "# Import relevant libraries\n",
    "from splinter import Browser\n",
    "from bs4 import BeautifulSoup\n",
    "import matplotlib.pyplot as plt\n",
    "import pandas as pd\n",
    "from scipy.signal import find_peaks\n",
    "import numpy as np\n"
   ]
  },
  {
   "cell_type": "code",
   "execution_count": 2,
   "metadata": {},
   "outputs": [],
   "source": [
    "browser = Browser('chrome')"
   ]
  },
  {
   "attachments": {},
   "cell_type": "markdown",
   "metadata": {},
   "source": [
    "### Step 1: Visit the Website\n",
    "\n",
    "Use automated browsing to visit the [Mars Temperature Data Site](https://static.bc-edx.com/data/web/mars_facts/temperature.html). Inspect the page to identify which elements to scrape.\n",
    "\n",
    "   > **Hint** To identify which elements to scrape, you might want to inspect the page by using Chrome DevTools to discover whether the table contains usable classes.\n"
   ]
  },
  {
   "cell_type": "code",
   "execution_count": 3,
   "metadata": {},
   "outputs": [],
   "source": [
    "# Visit the website\n",
    "# https://static.bc-edx.com/data/web/mars_facts/temperature.html\n",
    "url = \"https://static.bc-edx.com/data/web/mars_facts/temperature.html\"\n",
    "browser.visit(url)"
   ]
  },
  {
   "attachments": {},
   "cell_type": "markdown",
   "metadata": {},
   "source": [
    "### Step 2: Scrape the Table\n",
    "\n",
    "Create a Beautiful Soup object and use it to scrape the data in the HTML table.\n",
    "\n",
    "Note that this can also be achieved by using the Pandas `read_html` function. However, use Beautiful Soup here to continue sharpening your web scraping skills."
   ]
  },
  {
   "cell_type": "code",
   "execution_count": 4,
   "metadata": {},
   "outputs": [],
   "source": [
    "# Create a Beautiful Soup Object\n",
    "html = browser.html\n",
    "soup = BeautifulSoup(html, 'html.parser')"
   ]
  },
  {
   "cell_type": "code",
   "execution_count": 5,
   "metadata": {},
   "outputs": [],
   "source": [
    "# Extract all rows of data\n",
    "table = soup.find('table')\n",
    "rows = table.find_all('tr')"
   ]
  },
  {
   "attachments": {},
   "cell_type": "markdown",
   "metadata": {},
   "source": [
    "### Step 3: Store the Data\n",
    "\n",
    "Assemble the scraped data into a Pandas DataFrame. The columns should have the same headings as the table on the website. Here’s an explanation of the column headings:\n",
    "\n",
    "* `id`: the identification number of a single transmission from the Curiosity rover\n",
    "* `terrestrial_date`: the date on Earth\n",
    "* `sol`: the number of elapsed sols (Martian days) since Curiosity landed on Mars\n",
    "* `ls`: the solar longitude\n",
    "* `month`: the Martian month\n",
    "* `min_temp`: the minimum temperature, in Celsius, of a single Martian day (sol)\n",
    "* `pressure`: The atmospheric pressure at Curiosity's location"
   ]
  },
  {
   "cell_type": "code",
   "execution_count": 6,
   "metadata": {},
   "outputs": [],
   "source": [
    "# Create an empty list\n",
    "data = []\n",
    "# Loop through the scraped data to create a list of rows\n",
    "\n",
    "# Loop through each row in the table on the website\n",
    "for row in rows:\n",
    "    # Extract all columns in the row\n",
    "    cols = row.find_all('td')\n",
    "    \n",
    "    # Check if the current row is the header or a row with the expected number of columns\n",
    "    if len(cols) == 7:\n",
    "        # Create an empty dictionary to store the row data\n",
    "        row_data = {}\n",
    "        # Store each piece of information in the dictionary using the appropriate key\n",
    "        row_data['id'] = cols[0].text\n",
    "        row_data['terrestrial_date'] = cols[1].text\n",
    "        row_data['sol'] = cols[2].text\n",
    "        row_data['ls'] = cols[3].text\n",
    "        row_data['month'] = cols[4].text\n",
    "        row_data['min_temp'] = cols[5].text\n",
    "        row_data['pressure'] = cols[6].text\n",
    "        \n",
    "        # Append the dictionary to the data list\n",
    "        data.append(row_data)\n",
    "\n"
   ]
  },
  {
   "cell_type": "code",
   "execution_count": 7,
   "metadata": {},
   "outputs": [],
   "source": [
    "# Create a Pandas DataFrame by using the list of rows and a list of the column names\n",
    "mars_weather_df = pd.DataFrame(data)"
   ]
  },
  {
   "cell_type": "code",
   "execution_count": 8,
   "metadata": {},
   "outputs": [],
   "source": [
    "# Confirm DataFrame was created successfully"
   ]
  },
  {
   "cell_type": "code",
   "execution_count": 9,
   "metadata": {},
   "outputs": [
    {
     "data": {
      "text/html": [
       "<div>\n",
       "<style scoped>\n",
       "    .dataframe tbody tr th:only-of-type {\n",
       "        vertical-align: middle;\n",
       "    }\n",
       "\n",
       "    .dataframe tbody tr th {\n",
       "        vertical-align: top;\n",
       "    }\n",
       "\n",
       "    .dataframe thead th {\n",
       "        text-align: right;\n",
       "    }\n",
       "</style>\n",
       "<table border=\"1\" class=\"dataframe\">\n",
       "  <thead>\n",
       "    <tr style=\"text-align: right;\">\n",
       "      <th></th>\n",
       "      <th>id</th>\n",
       "      <th>terrestrial_date</th>\n",
       "      <th>sol</th>\n",
       "      <th>ls</th>\n",
       "      <th>month</th>\n",
       "      <th>min_temp</th>\n",
       "      <th>pressure</th>\n",
       "    </tr>\n",
       "  </thead>\n",
       "  <tbody>\n",
       "    <tr>\n",
       "      <th>0</th>\n",
       "      <td>2</td>\n",
       "      <td>2012-08-16</td>\n",
       "      <td>10</td>\n",
       "      <td>155</td>\n",
       "      <td>6</td>\n",
       "      <td>-75.0</td>\n",
       "      <td>739.0</td>\n",
       "    </tr>\n",
       "    <tr>\n",
       "      <th>1</th>\n",
       "      <td>13</td>\n",
       "      <td>2012-08-17</td>\n",
       "      <td>11</td>\n",
       "      <td>156</td>\n",
       "      <td>6</td>\n",
       "      <td>-76.0</td>\n",
       "      <td>740.0</td>\n",
       "    </tr>\n",
       "    <tr>\n",
       "      <th>2</th>\n",
       "      <td>24</td>\n",
       "      <td>2012-08-18</td>\n",
       "      <td>12</td>\n",
       "      <td>156</td>\n",
       "      <td>6</td>\n",
       "      <td>-76.0</td>\n",
       "      <td>741.0</td>\n",
       "    </tr>\n",
       "    <tr>\n",
       "      <th>3</th>\n",
       "      <td>35</td>\n",
       "      <td>2012-08-19</td>\n",
       "      <td>13</td>\n",
       "      <td>157</td>\n",
       "      <td>6</td>\n",
       "      <td>-74.0</td>\n",
       "      <td>732.0</td>\n",
       "    </tr>\n",
       "    <tr>\n",
       "      <th>4</th>\n",
       "      <td>46</td>\n",
       "      <td>2012-08-20</td>\n",
       "      <td>14</td>\n",
       "      <td>157</td>\n",
       "      <td>6</td>\n",
       "      <td>-74.0</td>\n",
       "      <td>740.0</td>\n",
       "    </tr>\n",
       "  </tbody>\n",
       "</table>\n",
       "</div>"
      ],
      "text/plain": [
       "   id terrestrial_date sol   ls month min_temp pressure\n",
       "0   2       2012-08-16  10  155     6    -75.0    739.0\n",
       "1  13       2012-08-17  11  156     6    -76.0    740.0\n",
       "2  24       2012-08-18  12  156     6    -76.0    741.0\n",
       "3  35       2012-08-19  13  157     6    -74.0    732.0\n",
       "4  46       2012-08-20  14  157     6    -74.0    740.0"
      ]
     },
     "execution_count": 9,
     "metadata": {},
     "output_type": "execute_result"
    }
   ],
   "source": [
    "# Display the DataFrame\n",
    "mars_weather_df.head()"
   ]
  },
  {
   "attachments": {},
   "cell_type": "markdown",
   "metadata": {},
   "source": [
    "### Step 4: Prepare Data for Analysis\n",
    "\n",
    "Examine the data types that are currently associated with each column. If necessary, cast (or convert) the data to the appropriate `datetime`, `int`, or `float` data types.\n",
    "\n",
    "  > **Hint** You can use the Pandas `astype` and `to_datetime` methods to accomplish this task.\n"
   ]
  },
  {
   "cell_type": "code",
   "execution_count": 10,
   "metadata": {},
   "outputs": [],
   "source": [
    "# Examine data type of each column\n"
   ]
  },
  {
   "cell_type": "code",
   "execution_count": 11,
   "metadata": {},
   "outputs": [
    {
     "name": "stdout",
     "output_type": "stream",
     "text": [
      "id                  object\n",
      "terrestrial_date    object\n",
      "sol                 object\n",
      "ls                  object\n",
      "month               object\n",
      "min_temp            object\n",
      "pressure            object\n",
      "dtype: object\n"
     ]
    }
   ],
   "source": [
    "# Display the current data types\n",
    "print(mars_weather_df.dtypes)"
   ]
  },
  {
   "cell_type": "code",
   "execution_count": 12,
   "metadata": {},
   "outputs": [],
   "source": [
    "# Change data types for data analysis"
   ]
  },
  {
   "cell_type": "code",
   "execution_count": 13,
   "metadata": {},
   "outputs": [],
   "source": [
    "\n",
    "# Convert the 'terrestrial_date' column to datetime\n",
    "mars_weather_df['terrestrial_date'] = pd.to_datetime(mars_weather_df['terrestrial_date'])"
   ]
  },
  {
   "cell_type": "code",
   "execution_count": 14,
   "metadata": {},
   "outputs": [],
   "source": [
    "# Convert 'sol', 'ls', 'min_temp', and 'pressure' to appropriate numerical data types\n",
    "# Assuming these should be integers or floats without missing data or n/a\n",
    "mars_weather_df['sol'] = mars_weather_df['sol'].astype(\"int64\")\n",
    "mars_weather_df['ls'] = mars_weather_df['ls'].astype(\"int64\")\n",
    "mars_weather_df['month'] = mars_weather_df['month'].astype(\"int64\")\n",
    "mars_weather_df['min_temp'] = mars_weather_df['min_temp'].astype(float)\n",
    "mars_weather_df['pressure'] = mars_weather_df['pressure'].astype(float)"
   ]
  },
  {
   "cell_type": "code",
   "execution_count": 15,
   "metadata": {},
   "outputs": [],
   "source": [
    "# Confirm type changes were successful by examining data types again"
   ]
  },
  {
   "cell_type": "code",
   "execution_count": 16,
   "metadata": {},
   "outputs": [
    {
     "data": {
      "text/plain": [
       "id                          object\n",
       "terrestrial_date    datetime64[ns]\n",
       "sol                          int64\n",
       "ls                           int64\n",
       "month                        int64\n",
       "min_temp                   float64\n",
       "pressure                   float64\n",
       "dtype: object"
      ]
     },
     "execution_count": 16,
     "metadata": {},
     "output_type": "execute_result"
    }
   ],
   "source": [
    "mars_weather_df.dtypes"
   ]
  },
  {
   "cell_type": "code",
   "execution_count": 17,
   "metadata": {},
   "outputs": [
    {
     "data": {
      "text/html": [
       "<div>\n",
       "<style scoped>\n",
       "    .dataframe tbody tr th:only-of-type {\n",
       "        vertical-align: middle;\n",
       "    }\n",
       "\n",
       "    .dataframe tbody tr th {\n",
       "        vertical-align: top;\n",
       "    }\n",
       "\n",
       "    .dataframe thead th {\n",
       "        text-align: right;\n",
       "    }\n",
       "</style>\n",
       "<table border=\"1\" class=\"dataframe\">\n",
       "  <thead>\n",
       "    <tr style=\"text-align: right;\">\n",
       "      <th></th>\n",
       "      <th>id</th>\n",
       "      <th>terrestrial_date</th>\n",
       "      <th>sol</th>\n",
       "      <th>ls</th>\n",
       "      <th>month</th>\n",
       "      <th>min_temp</th>\n",
       "      <th>pressure</th>\n",
       "    </tr>\n",
       "  </thead>\n",
       "  <tbody>\n",
       "    <tr>\n",
       "      <th>0</th>\n",
       "      <td>2</td>\n",
       "      <td>2012-08-16</td>\n",
       "      <td>10</td>\n",
       "      <td>155</td>\n",
       "      <td>6</td>\n",
       "      <td>-75.0</td>\n",
       "      <td>739.0</td>\n",
       "    </tr>\n",
       "    <tr>\n",
       "      <th>1</th>\n",
       "      <td>13</td>\n",
       "      <td>2012-08-17</td>\n",
       "      <td>11</td>\n",
       "      <td>156</td>\n",
       "      <td>6</td>\n",
       "      <td>-76.0</td>\n",
       "      <td>740.0</td>\n",
       "    </tr>\n",
       "    <tr>\n",
       "      <th>2</th>\n",
       "      <td>24</td>\n",
       "      <td>2012-08-18</td>\n",
       "      <td>12</td>\n",
       "      <td>156</td>\n",
       "      <td>6</td>\n",
       "      <td>-76.0</td>\n",
       "      <td>741.0</td>\n",
       "    </tr>\n",
       "    <tr>\n",
       "      <th>3</th>\n",
       "      <td>35</td>\n",
       "      <td>2012-08-19</td>\n",
       "      <td>13</td>\n",
       "      <td>157</td>\n",
       "      <td>6</td>\n",
       "      <td>-74.0</td>\n",
       "      <td>732.0</td>\n",
       "    </tr>\n",
       "    <tr>\n",
       "      <th>4</th>\n",
       "      <td>46</td>\n",
       "      <td>2012-08-20</td>\n",
       "      <td>14</td>\n",
       "      <td>157</td>\n",
       "      <td>6</td>\n",
       "      <td>-74.0</td>\n",
       "      <td>740.0</td>\n",
       "    </tr>\n",
       "    <tr>\n",
       "      <th>...</th>\n",
       "      <td>...</td>\n",
       "      <td>...</td>\n",
       "      <td>...</td>\n",
       "      <td>...</td>\n",
       "      <td>...</td>\n",
       "      <td>...</td>\n",
       "      <td>...</td>\n",
       "    </tr>\n",
       "    <tr>\n",
       "      <th>1862</th>\n",
       "      <td>1889</td>\n",
       "      <td>2018-02-23</td>\n",
       "      <td>1973</td>\n",
       "      <td>133</td>\n",
       "      <td>5</td>\n",
       "      <td>-78.0</td>\n",
       "      <td>730.0</td>\n",
       "    </tr>\n",
       "    <tr>\n",
       "      <th>1863</th>\n",
       "      <td>1892</td>\n",
       "      <td>2018-02-24</td>\n",
       "      <td>1974</td>\n",
       "      <td>134</td>\n",
       "      <td>5</td>\n",
       "      <td>-77.0</td>\n",
       "      <td>729.0</td>\n",
       "    </tr>\n",
       "    <tr>\n",
       "      <th>1864</th>\n",
       "      <td>1894</td>\n",
       "      <td>2018-02-25</td>\n",
       "      <td>1975</td>\n",
       "      <td>134</td>\n",
       "      <td>5</td>\n",
       "      <td>-76.0</td>\n",
       "      <td>729.0</td>\n",
       "    </tr>\n",
       "    <tr>\n",
       "      <th>1865</th>\n",
       "      <td>1893</td>\n",
       "      <td>2018-02-26</td>\n",
       "      <td>1976</td>\n",
       "      <td>135</td>\n",
       "      <td>5</td>\n",
       "      <td>-77.0</td>\n",
       "      <td>728.0</td>\n",
       "    </tr>\n",
       "    <tr>\n",
       "      <th>1866</th>\n",
       "      <td>1895</td>\n",
       "      <td>2018-02-27</td>\n",
       "      <td>1977</td>\n",
       "      <td>135</td>\n",
       "      <td>5</td>\n",
       "      <td>-77.0</td>\n",
       "      <td>727.0</td>\n",
       "    </tr>\n",
       "  </tbody>\n",
       "</table>\n",
       "<p>1867 rows × 7 columns</p>\n",
       "</div>"
      ],
      "text/plain": [
       "        id terrestrial_date   sol   ls  month  min_temp  pressure\n",
       "0        2       2012-08-16    10  155      6     -75.0     739.0\n",
       "1       13       2012-08-17    11  156      6     -76.0     740.0\n",
       "2       24       2012-08-18    12  156      6     -76.0     741.0\n",
       "3       35       2012-08-19    13  157      6     -74.0     732.0\n",
       "4       46       2012-08-20    14  157      6     -74.0     740.0\n",
       "...    ...              ...   ...  ...    ...       ...       ...\n",
       "1862  1889       2018-02-23  1973  133      5     -78.0     730.0\n",
       "1863  1892       2018-02-24  1974  134      5     -77.0     729.0\n",
       "1864  1894       2018-02-25  1975  134      5     -76.0     729.0\n",
       "1865  1893       2018-02-26  1976  135      5     -77.0     728.0\n",
       "1866  1895       2018-02-27  1977  135      5     -77.0     727.0\n",
       "\n",
       "[1867 rows x 7 columns]"
      ]
     },
     "execution_count": 17,
     "metadata": {},
     "output_type": "execute_result"
    }
   ],
   "source": [
    "mars_weather_df"
   ]
  },
  {
   "attachments": {},
   "cell_type": "markdown",
   "metadata": {},
   "source": [
    "### Step 5: Analyze the Data\n",
    "\n",
    "Analyze your dataset by using Pandas functions to answer the following questions:\n",
    "\n",
    "1. How many months exist on Mars?\n",
    "2. How many Martian (and not Earth) days worth of data exist in the scraped dataset?\n",
    "3. What are the coldest and the warmest months on Mars (at the location of Curiosity)? To answer this question:\n",
    "    * Find the average the minimum daily temperature for all of the months.\n",
    "    * Plot the results as a bar chart.\n",
    "4. Which months have the lowest and the highest atmospheric pressure on Mars? To answer this question:\n",
    "    * Find the average the daily atmospheric pressure of all the months.\n",
    "    * Plot the results as a bar chart.\n",
    "5. About how many terrestrial (Earth) days exist in a Martian year? To answer this question:\n",
    "    * Consider how many days elapse on Earth in the time that Mars circles the Sun once.\n",
    "    * Visually estimate the result by plotting the daily minimum temperature.\n"
   ]
  },
  {
   "cell_type": "markdown",
   "metadata": {},
   "source": [
    "#### 1. How many months are there on Mars?"
   ]
  },
  {
   "cell_type": "code",
   "execution_count": 18,
   "metadata": {
    "scrolled": true
   },
   "outputs": [
    {
     "name": "stdout",
     "output_type": "stream",
     "text": [
      "month\n",
      "1     174\n",
      "2     178\n",
      "3     192\n",
      "4     194\n",
      "5     149\n",
      "6     147\n",
      "7     142\n",
      "8     141\n",
      "9     134\n",
      "10    112\n",
      "11    138\n",
      "12    166\n",
      "Name: count, dtype: int64\n",
      "Total rows: 1867\n"
     ]
    }
   ],
   "source": [
    "\n",
    "# Then count the occurrences of each month using value_counts()\n",
    "month_counts = mars_weather_df['month'].value_counts().sort_index()\n",
    "\n",
    "# month_counts now holds the frequency of each month, sorted by month number\n",
    "\n",
    "# You can print month_counts to see the occurrences of each month\n",
    "print(month_counts)\n",
    "\n",
    "# Optionally, you can sum the values to ensure it adds up to 1867\n",
    "total_rows = month_counts.sum()\n",
    "print(f\"Total rows: {total_rows}\")"
   ]
  },
  {
   "cell_type": "code",
   "execution_count": 19,
   "metadata": {},
   "outputs": [
    {
     "name": "stdout",
     "output_type": "stream",
     "text": [
      "------------------------------------------------------\n",
      "There are 12 months on Mars according to NASA data.\n",
      "------------------------------------------------------\n"
     ]
    }
   ],
   "source": [
    "# Count the number of  months in the dataset\n",
    "unique_months = mars_weather_df['month'].nunique()\n",
    "\n",
    "# Print the number of unique months\n",
    "print(f\"------------------------------------------------------\")\n",
    "print(f\"There are {unique_months} months on Mars according to NASA data.\")\n",
    "print(f\"------------------------------------------------------\")"
   ]
  },
  {
   "cell_type": "markdown",
   "metadata": {},
   "source": [
    "#### 2. How many Martian days' worth of data are there?"
   ]
  },
  {
   "cell_type": "code",
   "execution_count": 20,
   "metadata": {},
   "outputs": [
    {
     "name": "stdout",
     "output_type": "stream",
     "text": [
      "------------------------------------------------------\n",
      "There are 1867 Martian days' worth of data in the Mars Temperature Data table\n",
      "------------------------------------------------------\n"
     ]
    }
   ],
   "source": [
    "# Count the number of unique Martian days (sols) in the dataset\n",
    "unique_martian_days = mars_weather_df['sol'].nunique()\n",
    "\n",
    "# Print the number of unique Martian days\n",
    "print(f\"------------------------------------------------------\")\n",
    "print(f\"There are {unique_martian_days} Martian days' worth of data in the Mars Temperature Data table\")\n",
    "print(f\"------------------------------------------------------\")"
   ]
  },
  {
   "cell_type": "markdown",
   "metadata": {},
   "source": [
    "####  3. What is the average low temperature by month?"
   ]
  },
  {
   "cell_type": "code",
   "execution_count": 21,
   "metadata": {},
   "outputs": [
    {
     "name": "stdout",
     "output_type": "stream",
     "text": [
      "------------------------------------------------------\n",
      "The average low temperature by month on Mars according to NASA data.\n",
      "------------------------------------------------------\n",
      "month\n",
      "1    -77.160920\n",
      "2    -79.932584\n",
      "3    -83.307292\n",
      "4    -82.747423\n",
      "5    -79.308725\n",
      "6    -75.299320\n",
      "7    -72.281690\n",
      "8    -68.382979\n",
      "9    -69.171642\n",
      "10   -71.982143\n",
      "11   -71.985507\n",
      "12   -74.451807\n",
      "Name: min_temp, dtype: float64\n",
      "------------------------------------------------------\n"
     ]
    }
   ],
   "source": [
    "# Group the data by 'month' and then calculate the mean 'min_temp' for each group\n",
    "average_low_temps_by_month = mars_weather_df.groupby('month')['min_temp'].mean()\n",
    "\n",
    "# Print the average low temperature by month\n",
    "print(f\"------------------------------------------------------\")\n",
    "print(f\"The average low temperature by month on Mars according to NASA data.\")\n",
    "print(f\"------------------------------------------------------\")\n",
    "print(average_low_temps_by_month)\n",
    "print(f\"------------------------------------------------------\")"
   ]
  },
  {
   "cell_type": "markdown",
   "metadata": {},
   "source": [
    "####  Plot the average temperature by month"
   ]
  },
  {
   "cell_type": "code",
   "execution_count": 22,
   "metadata": {},
   "outputs": [
    {
     "data": {
      "image/png": "[encoded data removed]",
      "text/plain": [
       "<Figure size 1000x500 with 1 Axes>"
      ]
     },
     "metadata": {},
     "output_type": "display_data"
    }
   ],
   "source": [
    "# Plot the average temperature by month\n",
    "\n",
    "# Create a bar chart for average low temperature by month\n",
    "average_low_temps_by_month.plot(kind='bar', figsize=(10, 5))\n",
    "\n",
    "# Add labels and title\n",
    "plt.xlabel('Month')\n",
    "plt.ylabel('Average Min Temperature (C)')\n",
    "plt.title('Average Min Temperature by Martian Month')\n",
    "plt.xticks(rotation=0)  # Rotates X-axis labels to horizontal\n",
    "\n",
    "# Show the plot\n",
    "plt.show()"
   ]
  },
  {
   "cell_type": "code",
   "execution_count": 23,
   "metadata": {},
   "outputs": [],
   "source": [
    "# Identify the coldest and hottest months in Curiosity's location"
   ]
  },
  {
   "cell_type": "markdown",
   "metadata": {},
   "source": [
    "note to grader :Two graphs were created THIS WAS NOT PART OF THE CHALLENGE \n",
    "\n",
    "The graphs show two different ways to show the highest and lowest.  This was done to clarify and exploit graphical capabilities.  "
   ]
  },
  {
   "cell_type": "markdown",
   "metadata": {},
   "source": [
    "##### This is a good representation to demonstrate hotest and coldest month.  "
   ]
  },
  {
   "cell_type": "code",
   "execution_count": 24,
   "metadata": {},
   "outputs": [
    {
     "data": {
      "image/png": "[encoded data removed]",
      "text/plain": [
       "<Figure size 1000x500 with 1 Axes>"
      ]
     },
     "metadata": {},
     "output_type": "display_data"
    },
    {
     "name": "stdout",
     "output_type": "stream",
     "text": [
      "-------------------------------------------------------------------------------------\n",
      "The coldest month is: 3 with an average temperature of -83.31 C\n",
      "The hottest month is: 8 with an average temperature of -68.38 C\n",
      "-------------------------------------------------------------------------------------\n"
     ]
    }
   ],
   "source": [
    "\n",
    "\n",
    "# Find the coldest and hottest months by identifying the min and max average temperatures\n",
    "coldest_month = average_low_temps_by_month.idxmin()\n",
    "hottest_month = average_low_temps_by_month.idxmax()\n",
    "\n",
    "# Create a bar chart for average low temperature by month\n",
    "average_low_temps_by_month.plot(kind='bar', figsize=(10, 5), color='skyblue')\n",
    "\n",
    "# Add labels and title\n",
    "plt.xlabel('Month')\n",
    "plt.ylabel('Average Min Temperature (C)')\n",
    "plt.title('Average Min Temperature by Martian Month')\n",
    "plt.xticks(rotation=0)  # Rotates X-axis labels to horizontal\n",
    "\n",
    "# Highlight the coldest and hottest months\n",
    "plt.bar(coldest_month - 1, average_low_temps_by_month[coldest_month], color='blue', label='Coldest Month')\n",
    "plt.bar(hottest_month - 1, average_low_temps_by_month[hottest_month], color='red', label='Hottest Month')\n",
    "\n",
    "# Add a legend\n",
    "plt.legend()\n",
    "\n",
    "# Show the plot\n",
    "plt.show()\n",
    "\n",
    "# Print out the coldest and hottest months with their respective temperatures\n",
    "print(f\"-------------------------------------------------------------------------------------\")\n",
    "print(f\"The coldest month is: {coldest_month} with an average temperature of {average_low_temps_by_month[coldest_month]:.2f} C\")\n",
    "print(f\"The hottest month is: {hottest_month} with an average temperature of {average_low_temps_by_month[hottest_month]:.2f} C\")\n",
    "print(f\"-------------------------------------------------------------------------------------\")"
   ]
  },
  {
   "cell_type": "code",
   "execution_count": 25,
   "metadata": {},
   "outputs": [
    {
     "data": {
      "image/png": "[encoded data removed]",
      "text/plain": [
       "<Figure size 1000x500 with 1 Axes>"
      ]
     },
     "metadata": {},
     "output_type": "display_data"
    },
    {
     "name": "stdout",
     "output_type": "stream",
     "text": [
      "-------------------------------------------------------------------------------------\n",
      "The coldest month is: 3 with an average temperature of -83.31 C\n",
      "The hottest month is: 8 with an average temperature of -68.38 C\n",
      "-------------------------------------------------------------------------------------\n"
     ]
    }
   ],
   "source": [
    "\n",
    "# Sort the average low temperatures by value in ascending order\n",
    "sorted_avg_low_temps = average_low_temps_by_month.sort_values()\n",
    "\n",
    "# Create a bar chart for the sorted average low temperatures\n",
    "sorted_avg_low_temps.plot(kind='bar', figsize=(10, 5))\n",
    "\n",
    "# Add labels and title to the plot\n",
    "plt.xlabel('Month')\n",
    "plt.ylabel('Temperature (C)')\n",
    "plt.title(\" The coldest and hottest months in Curiosity's location \")\n",
    "# Show the plot\n",
    "plt.show()\n",
    "\n",
    "# Print out the coldest and hottest months with their respective temperatures\n",
    "print(f\"-------------------------------------------------------------------------------------\")\n",
    "print(f\"The coldest month is: {coldest_month} with an average temperature of {average_low_temps_by_month[coldest_month]:.2f} C\")\n",
    "print(f\"The hottest month is: {hottest_month} with an average temperature of {average_low_temps_by_month[hottest_month]:.2f} C\")\n",
    "print(f\"-------------------------------------------------------------------------------------\")"
   ]
  },
  {
   "cell_type": "markdown",
   "metadata": {},
   "source": [
    "##### 4. Average pressure by Martian month\n"
   ]
  },
  {
   "cell_type": "code",
   "execution_count": 26,
   "metadata": {},
   "outputs": [
    {
     "name": "stdout",
     "output_type": "stream",
     "text": [
      "-------------------------------------------------------------------------------------\n",
      "The Average pressure by Martian month\n",
      "-------------------------------------------------------------------------------------\n",
      "month\n",
      "1     862.488506\n",
      "2     889.455056\n",
      "3     877.322917\n",
      "4     806.329897\n",
      "5     748.557047\n",
      "6     745.054422\n",
      "7     795.105634\n",
      "8     873.829787\n",
      "9     913.305970\n",
      "10    887.312500\n",
      "11    857.014493\n",
      "12    842.156627\n",
      "Name: pressure, dtype: float64\n",
      "-------------------------------------------------------------------------------------\n"
     ]
    }
   ],
   "source": [
    "# Group the data by 'month' and calculate the mean 'pressure' for each group\n",
    "average_pressure_by_month = mars_weather_df.groupby('month')['pressure'].mean()\n",
    "\n",
    "# Print the average pressure by month\n",
    "print(f\"-------------------------------------------------------------------------------------\")\n",
    "print(f\"The Average pressure by Martian month\")\n",
    "\n",
    "print(f\"-------------------------------------------------------------------------------------\")\n",
    "print(average_pressure_by_month)\n",
    "print(f\"-------------------------------------------------------------------------------------\")"
   ]
  },
  {
   "cell_type": "markdown",
   "metadata": {},
   "source": [
    "###### Plot the average pressure by month"
   ]
  },
  {
   "cell_type": "code",
   "execution_count": 27,
   "metadata": {},
   "outputs": [
    {
     "data": {
      "image/png": "[encoded data removed]",
      "text/plain": [
       "<Figure size 1000x500 with 1 Axes>"
      ]
     },
     "metadata": {},
     "output_type": "display_data"
    }
   ],
   "source": [
    "# Sort average pressures in ascending order\n",
    "sorted_avg_pressure = average_pressure_by_month.sort_values()\n",
    "\n",
    "# Create a bar chart for the sorted average pressures\n",
    "sorted_avg_pressure.plot(kind='bar', figsize=(10, 5), color='skyblue')\n",
    "\n",
    "# Add labels and title to the plot\n",
    "plt.xlabel('Martian Month')\n",
    "plt.ylabel('Average Pressure (Pa)')\n",
    "plt.title('Average Atmospheric Pressure by Martian Month (Sorted)')\n",
    "\n",
    "# Show the plot\n",
    "plt.show()"
   ]
  },
  {
   "cell_type": "markdown",
   "metadata": {},
   "source": [
    "#### 5. How many terrestrial (earth) days are there in a Martian year?"
   ]
  },
  {
   "cell_type": "code",
   "execution_count": 28,
   "metadata": {},
   "outputs": [
    {
     "name": "stdout",
     "output_type": "stream",
     "text": [
      "-------------------------------------------------------------------------------------\n",
      "Earth days elapsed: 2021\n",
      "Solar days elapsed: 1967\n",
      "Average length of solar days in Earth days: 1.0274529740721912\n",
      "A solar day is 1.0274529740721912 earth days\n",
      "-------------------------------------------------------------------------------------\n"
     ]
    }
   ],
   "source": [
    "\n",
    "# Calculate the average length of a Martian solar day in Earth days.\n",
    "earth_days_elapsed = (mars_weather_df['terrestrial_date'].max() - mars_weather_df['terrestrial_date'].min()).days\n",
    "solar_days_elapsed = mars_weather_df['sol'].max() - mars_weather_df['sol'].min()\n",
    "\n",
    "# Assure that solar_days_elapsed is not zero to avoid division by zero\n",
    "if solar_days_elapsed != 0:\n",
    "    average_length_of_sol_in_earth_days = earth_days_elapsed / solar_days_elapsed\n",
    "else:\n",
    "    average_length_of_sol_in_earth_days = float('nan')  # Not a Number, because can't divide by zero\n",
    "\n",
    "# Print calculations\n",
    "print(f\"-------------------------------------------------------------------------------------\")\n",
    "print(f\"Earth days elapsed: {earth_days_elapsed}\")\n",
    "print(f\"Solar days elapsed: {solar_days_elapsed}\")\n",
    "print(f\"Average length of solar days in Earth days: {average_length_of_sol_in_earth_days}\")\n",
    "print(f\"A solar day is {average_length_of_sol_in_earth_days} earth days\")\n",
    "print(f\"-------------------------------------------------------------------------------------\")"
   ]
  },
  {
   "cell_type": "code",
   "execution_count": 29,
   "metadata": {},
   "outputs": [
    {
     "data": {
      "image/png": "[encoded data removed]",
      "text/plain": [
       "<Figure size 1000x500 with 1 Axes>"
      ]
     },
     "metadata": {},
     "output_type": "display_data"
    }
   ],
   "source": [
    "\n",
    "\n",
    "# The index of  DataFrame 'mars_weather_df' represents the chronological order of sols, adjust to Earth days\n",
    "mars_weather_df['terrestrial_day'] = mars_weather_df.index * average_length_of_sol_in_earth_days\n",
    "\n",
    "# Dataframe `mars_weather_df` has 'min_temp' values already and has been sorted by 'terrestrial_day'\n",
    "# Now plot the terrestrial days (Earth days) as a line graph against the minimum temperature\n",
    "plt.figure(figsize=(10, 5))\n",
    "plt.plot(mars_weather_df['terrestrial_day'], mars_weather_df['min_temp'], alpha=0.5)\n",
    "\n",
    "# Add labels and title to the plot\n",
    "plt.xlabel('Terrestrial Days (Earth Days)')\n",
    "plt.ylabel('Minimum Temperature (C)')\n",
    "plt.title('Daily Minimum Temperature Over Approximately One Martian Year')\n",
    "\n",
    "# Show the plot\n",
    "plt.show()"
   ]
  },
  {
   "cell_type": "markdown",
   "metadata": {},
   "source": [
    "#### Find the dates in the two troughs "
   ]
  },
  {
   "cell_type": "code",
   "execution_count": 36,
   "metadata": {},
   "outputs": [
    {
     "name": "stdout",
     "output_type": "stream",
     "text": [
      "452    2014-02-03\n",
      "455    2014-02-06\n",
      "1074   2015-11-20\n",
      "1093   2015-12-09\n",
      "1122   2016-01-08\n",
      "1128   2016-01-14\n",
      "1129   2016-01-15\n",
      "1132   2016-01-18\n",
      "1133   2016-01-19\n",
      "1134   2016-01-20\n",
      "1135   2016-01-21\n",
      "1136   2016-01-22\n",
      "1137   2016-01-23\n",
      "1138   2016-01-24\n",
      "1139   2016-01-26\n",
      "1140   2016-01-27\n",
      "1142   2016-01-29\n",
      "1144   2016-01-31\n",
      "Name: terrestrial_date, dtype: datetime64[ns]\n"
     ]
    }
   ],
   "source": [
    "cold_days_df = mars_weather_df[mars_weather_df['min_temp'] < -87]\n",
    "\n",
    "# Select only the 'id' and 'terrestrial_date' columns from the filtered DataFrame\n",
    "cold_days_info = cold_days_df['terrestrial_date']\n",
    "# Print the results\n",
    "print(cold_days_info)"
   ]
  },
  {
   "cell_type": "markdown",
   "metadata": {
    "jp-MarkdownHeadingCollapsed": true
   },
   "source": [
    "##### From the two trough the lowest temperatures are  the first week of February 2014 and the third week of January 2016 : 1135(Jan 21 2016) - "
   ]
  },
  {
   "cell_type": "markdown",
   "metadata": {},
   "source": [
    "##### 1135(Jan 21 2016) - 452  (Feb 03 2014) this is 683 earth days"
   ]
  },
  {
   "cell_type": "markdown",
   "metadata": {},
   "source": [
    "#### 5. How many terrestrial (earth) days are there in a Martian year?\n"
   ]
  },
  {
   "attachments": {},
   "cell_type": "markdown",
   "metadata": {},
   "source": [
    "On average, the third month has the coldest minimum temperature on Mars, and the eighth month is the warmest. But it is always very cold there in human terms!\n",
    "\n"
   ]
  },
  {
   "cell_type": "markdown",
   "metadata": {},
   "source": [
    "Atmospheric pressure is, on average, lowest in the sixth month and highest in the ninth."
   ]
  },
  {
   "cell_type": "markdown",
   "metadata": {},
   "source": [
    "The distance from peak to peak is roughly 1425-750, or 675 days. A year on Mars appears to be about 675 days from the plot. Internet search confirms that a Mars year is equivalent to 687 earth days."
   ]
  },
  {
   "attachments": {},
   "cell_type": "markdown",
   "metadata": {},
   "source": [
    "### Step 6: Save the Data\n",
    "\n",
    "Export the DataFrame to a CSV file."
   ]
  },
  {
   "cell_type": "code",
   "execution_count": null,
   "metadata": {},
   "outputs": [],
   "source": [
    "# Write the data to a CSV"
   ]
  },
  {
   "cell_type": "code",
   "execution_count": null,
   "metadata": {},
   "outputs": [],
   "source": [
    "\n",
    "\n",
    "# Define the name of the file to save the data\n",
    "csv_file_name = 'mars_weather_data.csv'\n",
    "\n",
    "# Export the DataFrame to a CSV file\n",
    "mars_weather_df.to_csv(csv_file_name, index=False)\n",
    "\n",
    "# Confirm the file has been saved\n",
    "print(f\"Data saved to {csv_file_name}\")"
   ]
  },
  {
   "cell_type": "code",
   "execution_count": null,
   "metadata": {},
   "outputs": [],
   "source": [
    "browser.quit()"
   ]
  },
  {
   "cell_type": "code",
   "execution_count": null,
   "metadata": {},
   "outputs": [],
   "source": []
  }
 ],
 "metadata": {
  "kernelspec": {
   "display_name": "Python 3 (ipykernel)",
   "language": "python",
   "name": "python3"
  },
  "language_info": {
   "codemirror_mode": {
    "name": "ipython",
    "version": 3
   },
   "file_extension": ".py",
   "mimetype": "text/x-python",
   "name": "python",
   "nbconvert_exporter": "python",
   "pygments_lexer": "ipython3",
   "version": "3.10.14"
  },
  "vscode": {
   "interpreter": {
    "hash": "31f2aee4e71d21fbe5cf8b01ff0e069b9275f58929596ceb00d14d90e3e16cd6"
   }
  }
 },
 "nbformat": 4,
 "nbformat_minor": 4
}
